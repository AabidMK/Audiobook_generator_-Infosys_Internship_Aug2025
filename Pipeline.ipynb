{
 "cells": [
  {
   "cell_type": "code",
   "execution_count": null,
   "id": "07bddb48-3a8d-4ea8-8f00-bef73c82f86e",
   "metadata": {},
   "outputs": [],
   "source": [
    "import os\n",
    "import argparse\n",
    "import subprocess\n",
    "\n",
    "def run_step(command, description):\n",
    "    print(f\"\\n{description}...\")\n",
    "    result = subprocess.run(command, shell=True)\n",
    "    if result.returncode != 0:\n",
    "        print(f\"Failed at step: {description}\")\n",
    "        exit(1)\n",
    "\n",
    "def main():\n",
    "    parser = argparse.ArgumentParser(description=\"Full Audiobook Pipeline\")\n",
    "    parser.add_argument(\"input\", help=\"Input file (PDF, DOCX, or image)\")\n",
    "    parser.add_argument(\"-o\", \"--output\", default=\"audiobook.wav\", help=\"Output audio file\")\n",
    "    args = parser.parse_args()\n",
    "\n",
    "    extracted_file = \"extracted.txt\"\n",
    "    run_step(f\"python text_extractor.py {args.input} -o {extracted_file}\", \"Extracting text\")\n",
    "\n",
    "    enriched_file = \"enriched.md\"\n",
    "    run_step(f\"python text_llm.py {extracted_file} -o {enriched_file}\", \"Enriching text into Markdown\")\n",
    "\n",
    "    run_step(f\"python multivoiceTTS.py {enriched_file} -o {args.output}\", \"Generating audiobook\")\n",
    "\n",
    "    print(f\"\\nPipeline completed successfully! Audiobook saved to {args.output}\")\n",
    "\n",
    "if __name__ == \"__main__\":\n",
    "    main()\n"
   ]
  }
 ],
 "metadata": {
  "kernelspec": {
   "display_name": "Python 3 (ipykernel)",
   "language": "python",
   "name": "python3"
  },
  "language_info": {
   "codemirror_mode": {
    "name": "ipython",
    "version": 3
   },
   "file_extension": ".py",
   "mimetype": "text/x-python",
   "name": "python",
   "nbconvert_exporter": "python",
   "pygments_lexer": "ipython3",
   "version": "3.11.7"
  }
 },
 "nbformat": 4,
 "nbformat_minor": 5
}
