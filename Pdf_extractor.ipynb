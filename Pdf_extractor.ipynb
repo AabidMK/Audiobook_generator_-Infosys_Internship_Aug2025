{
 "cells": [
  {
   "cell_type": "code",
   "execution_count": null,
   "id": "a3146f27-4870-40fb-b1f5-579d5b946dbb",
   "metadata": {},
   "outputs": [],
   "source": [
    "import os\n",
    "import fitz  # PyMuPDF\n",
    "from utils import ocr_image\n",
    "\n",
    "\n",
    "def extract_pdf_text_and_ocr(pdf_path: str) -> str:\n",
    "    if not os.path.isfile(pdf_path):\n",
    "        return \"Error: PDF not found\"\n",
    "    blocks = []\n",
    "    try:\n",
    "        with fitz.open(pdf_path) as doc:\n",
    "            for page_idx, page in enumerate(doc, start=1):\n",
    "                page_text = page.get_text()\n",
    "                if page_text and page_text.strip():\n",
    "                    blocks.append(f\"--- Page {page_idx} (Text) ---\")\n",
    "                    blocks.append(page_text)\n",
    "\n",
    "                # Extract and OCR embedded images\n",
    "                for img_idx, img in enumerate(page.get_images(full=True), start=1):\n",
    "                    try:\n",
    "                        xref = img[0]  # image reference id\n",
    "                        pix = fitz.Pixmap(doc, xref)\n",
    "                        if pix.n - pix.alpha < 4:\n",
    "                            png_bytes = pix.tobytes(\"png\")\n",
    "                            ocr_text = ocr_image(png_bytes, is_bytes=True)\n",
    "                            if ocr_text and not ocr_text.startswith(\"Error\") and len(ocr_text.strip()) > 10:\n",
    "                                blocks.append(f\"--- Page {page_idx} (Image {img_idx} OCR) ---\")\n",
    "                                blocks.append(ocr_text)\n",
    "                        pix = None\n",
    "                    except Exception:\n",
    "                        continue\n",
    "        return '\\n\\n'.join(blocks).strip() or \"Warning: No extractable content found in PDF\"\n",
    "    except Exception as exc:\n",
    "        return f\"Error reading PDF: {exc}\"\n"
   ]
  }
 ],
 "metadata": {
  "kernelspec": {
   "display_name": "Python 3 (ipykernel)",
   "language": "python",
   "name": "python3"
  },
  "language_info": {
   "codemirror_mode": {
    "name": "ipython",
    "version": 3
   },
   "file_extension": ".py",
   "mimetype": "text/x-python",
   "name": "python",
   "nbconvert_exporter": "python",
   "pygments_lexer": "ipython3",
   "version": "3.11.7"
  }
 },
 "nbformat": 4,
 "nbformat_minor": 5
}
