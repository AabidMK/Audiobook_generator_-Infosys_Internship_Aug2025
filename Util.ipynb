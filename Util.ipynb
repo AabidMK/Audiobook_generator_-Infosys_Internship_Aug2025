{
 "cells": [
  {
   "cell_type": "code",
   "execution_count": 1,
   "id": "9f4d2f70-210a-4df5-abc2-0b02f31fd7a3",
   "metadata": {},
   "outputs": [],
   "source": [
    "import os\n",
    "import io\n",
    "import pytesseract\n",
    "from PIL import Image\n",
    "\n",
    "\n",
    "SUPPORTED_IMAGE_EXTS = {'.png', '.jpg', '.jpeg', '.tiff', '.tif', '.bmp', '.gif'}\n",
    "\n",
    "\n",
    "def _tesseract_config():\n",
    "    return r'--oem 3 --psm 6 -c tessedit_char_whitelist=ABCDEFGHIJKLMNOPQRSTUVWXYZabcdefghijklmnopqrstuvwxyz0123456789.,!?;:\" '\n",
    "\n",
    "\n",
    "def _open_pil_image(image_input, is_bytes=False):\n",
    "    if is_bytes:\n",
    "        return Image.open(io.BytesIO(image_input))\n",
    "    if not os.path.isfile(image_input):\n",
    "        raise FileNotFoundError(\"Image file not found\")\n",
    "    ext = os.path.splitext(image_input)[1].lower()\n",
    "    if ext not in SUPPORTED_IMAGE_EXTS:\n",
    "        raise ValueError(f\"Unsupported image format '{ext}'\")\n",
    "    return Image.open(image_input)\n",
    "\n",
    "\n",
    "def _preprocess_for_ocr(pil_img: Image.Image) -> Image.Image:\n",
    "    if pil_img.mode != 'RGB':\n",
    "        pil_img = pil_img.convert('RGB')\n",
    "    w, h = pil_img.size\n",
    "    min_dim = 300\n",
    "    if w < min_dim or h < min_dim:\n",
    "        scale = max(min_dim / w, min_dim / h)\n",
    "        pil_img = pil_img.resize((int(w * scale), int(h * scale)), Image.Resampling.LANCZOS)\n",
    "    return pil_img\n",
    "\n",
    "\n",
    "def ocr_image(image_path_or_bytes, is_bytes=False) -> str:\n",
    "    try:\n",
    "        img = _open_pil_image(image_path_or_bytes, is_bytes=is_bytes)\n",
    "        img = _preprocess_for_ocr(img)\n",
    "        text = pytesseract.image_to_string(img, config=_tesseract_config())\n",
    "        return '\\n'.join(l.strip() for l in text.splitlines() if l.strip())\n",
    "    except Exception as exc:\n",
    "        return f\"Error during OCR: {exc}\"\n"
   ]
  },
  {
   "cell_type": "code",
   "execution_count": null,
   "id": "53187f2f-9bd0-4015-b65b-a738bafa37ae",
   "metadata": {},
   "outputs": [],
   "source": []
  }
 ],
 "metadata": {
  "kernelspec": {
   "display_name": "Python 3 (ipykernel)",
   "language": "python",
   "name": "python3"
  },
  "language_info": {
   "codemirror_mode": {
    "name": "ipython",
    "version": 3
   },
   "file_extension": ".py",
   "mimetype": "text/x-python",
   "name": "python",
   "nbconvert_exporter": "python",
   "pygments_lexer": "ipython3",
   "version": "3.11.7"
  }
 },
 "nbformat": 4,
 "nbformat_minor": 5
}
