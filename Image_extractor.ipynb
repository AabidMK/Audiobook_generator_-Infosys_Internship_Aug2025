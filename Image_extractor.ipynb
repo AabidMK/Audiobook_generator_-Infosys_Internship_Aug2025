{
 "cells": [
  {
   "cell_type": "code",
   "execution_count": null,
   "id": "5b2272d2-ecf8-423a-9b31-4d75f930c4e1",
   "metadata": {},
   "outputs": [],
   "source": [
    "from utils import ocr_image\n",
    "\n",
    "\n",
    "def extract_image(image_path: str) -> str:\n",
    "    return ocr_image(image_path)\n"
   ]
  }
 ],
 "metadata": {
  "kernelspec": {
   "display_name": "Python 3 (ipykernel)",
   "language": "python",
   "name": "python3"
  },
  "language_info": {
   "codemirror_mode": {
    "name": "ipython",
    "version": 3
   },
   "file_extension": ".py",
   "mimetype": "text/x-python",
   "name": "python",
   "nbconvert_exporter": "python",
   "pygments_lexer": "ipython3",
   "version": "3.11.7"
  }
 },
 "nbformat": 4,
 "nbformat_minor": 5
}
