{
 "cells": [
  {
   "cell_type": "code",
   "execution_count": null,
   "id": "f3a25e60-ec89-4de9-92db-aae27bd37308",
   "metadata": {},
   "outputs": [],
   "source": [
    "import os\n",
    "import docx\n",
    "from utils import ocr_image\n",
    "\n",
    "\n",
    "def _extract_docx_text(docx_path: str) -> str:\n",
    "    doc = docx.Document(docx_path)\n",
    "    text_chunks = []\n",
    "\n",
    "    for para in doc.paragraphs:\n",
    "        if para.text and para.text.strip():\n",
    "            text_chunks.append(para.text)\n",
    "\n",
    "    for table in doc.tables:\n",
    "        for row in table.rows:\n",
    "            for cell in row.cells:\n",
    "                if cell.text and cell.text.strip():\n",
    "                    text_chunks.append(cell.text)\n",
    "\n",
    "    if text_chunks:\n",
    "        return \"--- Document Text ---\\n\" + \"\\n\".join(text_chunks)\n",
    "    return \"\"\n",
    "\n",
    "\n",
    "def _extract_docx_images_ocr(docx_path: str) -> str:\n",
    "    try:\n",
    "        doc = docx.Document(docx_path)\n",
    "        ocr_blocks = []\n",
    "        for rel in doc.part.rels.values():\n",
    "            if \"image\" in getattr(rel, \"target_ref\", \"\"):\n",
    "                try:\n",
    "                    blob = rel.target_part.blob\n",
    "                    ocr_text = ocr_image(blob, is_bytes=True)\n",
    "                    if ocr_text and not ocr_text.startswith(\"Error\") and len(ocr_text.strip()) > 10:\n",
    "                        ocr_blocks.append(\"--- Embedded Image OCR ---\")\n",
    "                        ocr_blocks.append(ocr_text)\n",
    "                except Exception:\n",
    "                    continue\n",
    "        return \"\\n\\n\".join(ocr_blocks)\n",
    "    except Exception as exc:\n",
    "        return f\"Error scanning DOCX images: {exc}\"\n",
    "\n",
    "\n",
    "def extract_docx_text_and_ocr(docx_path: str) -> str:\n",
    "    if not os.path.isfile(docx_path):\n",
    "        return \"Error: DOCX not found\"\n",
    "    try:\n",
    "        text_part = _extract_docx_text(docx_path)\n",
    "        image_part = _extract_docx_images_ocr(docx_path)\n",
    "        combined = \"\\n\\n\".join(p for p in [text_part, image_part] if p).strip()\n",
    "        return combined or \"Warning: No extractable content found in DOCX\"\n",
    "    except Exception as exc:\n",
    "        return f\"Error reading DOCX: {exc}\"\n"
   ]
  }
 ],
 "metadata": {
  "kernelspec": {
   "display_name": "Python 3 (ipykernel)",
   "language": "python",
   "name": "python3"
  },
  "language_info": {
   "codemirror_mode": {
    "name": "ipython",
    "version": 3
   },
   "file_extension": ".py",
   "mimetype": "text/x-python",
   "name": "python",
   "nbconvert_exporter": "python",
   "pygments_lexer": "ipython3",
   "version": "3.11.7"
  }
 },
 "nbformat": 4,
 "nbformat_minor": 5
}
