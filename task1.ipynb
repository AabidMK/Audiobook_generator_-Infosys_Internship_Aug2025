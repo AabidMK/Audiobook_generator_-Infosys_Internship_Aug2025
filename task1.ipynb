{
  "cells": [
    {
      "cell_type": "code",
      "execution_count": null,
      "metadata": {
        "colab": {
          "base_uri": "https://localhost:8080/"
        },
        "id": "a50764ab",
        "outputId": "bd4e323a-1980-4103-f8ab-4278d3514dce"
      },
      "outputs": [
        {
          "name": "stdout",
          "output_type": "stream",
          "text": [
            "Collecting pdfplumber\n",
            "  Downloading pdfplumber-0.11.7-py3-none-any.whl.metadata (42 kB)\n",
            "\u001b[?25l     \u001b[90m━━━━━━━━━━━━━━━━━━━━━━━━━━━━━━━━━━━━━━━━\u001b[0m \u001b[32m0.0/42.8 kB\u001b[0m \u001b[31m?\u001b[0m eta \u001b[36m-:--:--\u001b[0m\r\u001b[2K     \u001b[90m━━━━━━━━━━━━━━━━━━━━━━━━━━━━━━━━━━━━━━━━\u001b[0m \u001b[32m42.8/42.8 kB\u001b[0m \u001b[31m3.1 MB/s\u001b[0m eta \u001b[36m0:00:00\u001b[0m\n",
            "\u001b[?25hCollecting pdfminer.six==20250506 (from pdfplumber)\n",
            "  Downloading pdfminer_six-20250506-py3-none-any.whl.metadata (4.2 kB)\n",
            "Requirement already satisfied: Pillow>=9.1 in /usr/local/lib/python3.12/dist-packages (from pdfplumber) (11.3.0)\n",
            "Collecting pypdfium2>=4.18.0 (from pdfplumber)\n",
            "  Downloading pypdfium2-4.30.0-py3-none-manylinux_2_17_x86_64.manylinux2014_x86_64.whl.metadata (48 kB)\n",
            "\u001b[2K     \u001b[90m━━━━━━━━━━━━━━━━━━━━━━━━━━━━━━━━━━━━━━━━\u001b[0m \u001b[32m48.5/48.5 kB\u001b[0m \u001b[31m3.2 MB/s\u001b[0m eta \u001b[36m0:00:00\u001b[0m\n",
            "\u001b[?25hRequirement already satisfied: charset-normalizer>=2.0.0 in /usr/local/lib/python3.12/dist-packages (from pdfminer.six==20250506->pdfplumber) (3.4.3)\n",
            "Requirement already satisfied: cryptography>=36.0.0 in /usr/local/lib/python3.12/dist-packages (from pdfminer.six==20250506->pdfplumber) (43.0.3)\n",
            "Requirement already satisfied: cffi>=1.12 in /usr/local/lib/python3.12/dist-packages (from cryptography>=36.0.0->pdfminer.six==20250506->pdfplumber) (1.17.1)\n",
            "Requirement already satisfied: pycparser in /usr/local/lib/python3.12/dist-packages (from cffi>=1.12->cryptography>=36.0.0->pdfminer.six==20250506->pdfplumber) (2.22)\n",
            "Downloading pdfplumber-0.11.7-py3-none-any.whl (60 kB)\n",
            "\u001b[2K   \u001b[90m━━━━━━━━━━━━━━━━━━━━━━━━━━━━━━━━━━━━━━━━\u001b[0m \u001b[32m60.0/60.0 kB\u001b[0m \u001b[31m4.7 MB/s\u001b[0m eta \u001b[36m0:00:00\u001b[0m\n",
            "\u001b[?25hDownloading pdfminer_six-20250506-py3-none-any.whl (5.6 MB)\n",
            "\u001b[2K   \u001b[90m━━━━━━━━━━━━━━━━━━━━━━━━━━━━━━━━━━━━━━━━\u001b[0m \u001b[32m5.6/5.6 MB\u001b[0m \u001b[31m71.4 MB/s\u001b[0m eta \u001b[36m0:00:00\u001b[0m\n",
            "\u001b[?25hDownloading pypdfium2-4.30.0-py3-none-manylinux_2_17_x86_64.manylinux2014_x86_64.whl (2.8 MB)\n",
            "\u001b[2K   \u001b[90m━━━━━━━━━━━━━━━━━━━━━━━━━━━━━━━━━━━━━━━━\u001b[0m \u001b[32m2.8/2.8 MB\u001b[0m \u001b[31m72.2 MB/s\u001b[0m eta \u001b[36m0:00:00\u001b[0m\n",
            "\u001b[?25hInstalling collected packages: pypdfium2, pdfminer.six, pdfplumber\n",
            "Successfully installed pdfminer.six-20250506 pdfplumber-0.11.7 pypdfium2-4.30.0\n"
          ]
        }
      ],
      "source": [
        "!pip install pdfplumber\n"
      ]
    },
    {
      "cell_type": "code",
      "execution_count": null,
      "metadata": {
        "colab": {
          "base_uri": "https://localhost:8080/"
        },
        "id": "8sg3gBhwcs9J",
        "outputId": "302f145f-2469-45f1-d9ae-a3b29598b61c"
      },
      "outputs": [
        {
          "name": "stdout",
          "output_type": "stream",
          "text": [
            "Collecting pypdf\n",
            "  Downloading pypdf-6.0.0-py3-none-any.whl.metadata (7.1 kB)\n",
            "Downloading pypdf-6.0.0-py3-none-any.whl (310 kB)\n",
            "\u001b[?25l   \u001b[90m━━━━━━━━━━━━━━━━━━━━━━━━━━━━━━━━━━━━━━━━\u001b[0m \u001b[32m0.0/310.5 kB\u001b[0m \u001b[31m?\u001b[0m eta \u001b[36m-:--:--\u001b[0m\r\u001b[2K   \u001b[90m━━━━━━━━━━━━━━━━━━━━━━━━━━━━━━━━━━━━━━━━\u001b[0m \u001b[32m310.5/310.5 kB\u001b[0m \u001b[31m15.9 MB/s\u001b[0m eta \u001b[36m0:00:00\u001b[0m\n",
            "\u001b[?25hInstalling collected packages: pypdf\n",
            "Successfully installed pypdf-6.0.0\n"
          ]
        }
      ],
      "source": [
        "!pip install pypdf"
      ]
    },
    {
      "cell_type": "code",
      "execution_count": null,
      "metadata": {
        "id": "6dsJFLHBaaCF"
      },
      "outputs": [],
      "source": [
        "import pdfplumber as pp\n"
      ]
    },
    {
      "cell_type": "code",
      "execution_count": null,
      "metadata": {
        "id": "uvFgvKXTcxCg"
      },
      "outputs": [],
      "source": [
        "from pypdf import PdfReader"
      ]
    },
    {
      "cell_type": "code",
      "execution_count": null,
      "metadata": {
        "colab": {
          "base_uri": "https://localhost:8080/"
        },
        "id": "-1oS-bU_agFc",
        "outputId": "50538afe-2d4b-480d-9e5e-8e9774d3f3e6"
      },
      "outputs": [
        {
          "name": "stdout",
          "output_type": "stream",
          "text": [
            "DrylabNews\n",
            "for investors & friends · May 2017\n",
            "Welcome to our first newsletter of 2017! It's the 2.05 MNOK loan from Innovation\n",
            "been a while since the last one, and a lot has Norway. Including the development\n",
            "happened. We promise to keep them coming agreement with Filmlance International, the\n",
            "every two months hereafter, and permit total new capital is 5 MNOK, partly tied to\n",
            "ourselves to make this one rather long. The the successful completion of milestones. All\n",
            "big news is the beginnings of our launch in formalities associated with this process are\n",
            "the American market, but there are also now finalized.\n",
            "interesting updates on sales, development,\n",
            "New owners:We would especially like to\n",
            "mentors and (of course) the investment\n",
            "warmly welcome our new owners to the\n",
            "round that closed in January.\n",
            "Drylab family: Unni Jacobsen, Torstein Jahr,\n",
            "New capital:The investment round was Suzanne Bolstad, Eivind Bergene, Turid Brun,\n",
            "successful. We raised 2.13 MNOK to match Vigdis Trondsen, Lea Blindheim, Kristine\n",
            "34 Academy of Motion Picture Arts and Sciences · Alesha & Jamie Metzger · Amazon\n",
            "AWS · Apple · Caitlin Burns, PGA · Carlos Melcer · Chimney L.A. · Dado Valentic ·\n",
            "Dave Stump · DIT WIT · ERA NYC · Facebook · Fancy Film · FilmLight · Geo Labelle ·\n",
            "mmeeeettiinnggss\n",
            "Google · IBM · Innovation Norway (NYC) · Innovation Norway (SF) · International\n",
            "NNYY ·· SSFF\n",
            "Cinematographers Guild · NBC · Local 871 · Netflix · Pomfort · Radiant Images ·\n",
            "LLAA ·· LLVV\n",
            "Screening Room · Signiant · Moods of Norway · Tapad · Team DowneyHolmsen, Torstein Hansen, and Jostein accomplished producer based in New York,\n",
            "Aanensen. We look forward to working with an active member of the Producers Guild of\n",
            "you! America, and the collaboration has already\n",
            "yielded good results, including valuable\n",
            "Sales:Return customer rate is now 80%,\n",
            "contacts for our visit in Los Angeles. Oscar-\n",
            "proving value and willingness to pay. Film\n",
            "winning VFX supervisorDave Stumpjoined\n",
            "Factory Montreal is our first customer in\n",
            "us earlier.\n",
            "Canada. Lumiere Numeriques have started\n",
            "using us in France. We also have new New York, St. Louis, San Francisco and\n",
            "customers in Norway, and high-profile users Los Angeles:Pontus and Audun did a tour\n",
            "such as Gareth Unwin, producer of Oscar- of the US in February and March, meeting\n",
            "winningThe King's Speech. Revenue for the users, partners and potential customers. The\n",
            "first four months is 200 kNOK, compared to trip was very successful, with several high\n",
            "339 kNOK for all of 2016. We are working points, including meetings with Netflix, the\n",
            "on a partnership to safeguard sales in Academy of Motion Picture Arts and\n",
            "Norway while beginning to focus more on Sciences, the International\n",
            "the US. Cinematographers Guild, Local 871 (the\n",
            "script supervisors' union), one of the world's\n",
            "leading DITs, and Apple. See the separate\n",
            "attachment for a more detailed summary.\n",
            "NAB:Andreas and Audun travelled to the\n",
            "National Association of Broadcasters\n",
            "convention (NAB) in Las Vegas for three\n",
            "hectic days in April. NAB gathers 100,000\n",
            "participants from film and TV. It's a very\n",
            "efficient way of meeting people in the\n",
            "business, and getting an updated picture of\n",
            "the business landscape. The most exciting\n",
            "New team members:We've extended our\n",
            "meeting was with PIX System, one of our\n",
            "organization with two permanent developers\n",
            "most important competitors. It was\n",
            "based in Łódź, the film capital of Poland. Two\n",
            "interesting to note that they regarded the\n",
            "highly skilled interns from the University of\n",
            "indie market as bigger than their own.\n",
            "Oslo's Entrepreneurship Program, will be\n",
            "Andreas was able to secure us an\n",
            "working on market research until mid-June\n",
            "invitation to the DIT-WIT party, with some of\n",
            "(starting in March), preparing for the US\n",
            "the world's leading DITs in attendance. It was\n",
            "launch. Also, two computer science students\n",
            "a great place for informal feedback on Drylab\n",
            "are working as part-time interns during\n",
            "Viewer. The pattern was the same as for\n",
            "spring, on machine learning and analysis\n",
            "other users: Initial polite interest turns to\n",
            "research, as well as innovative architectures\n",
            "real enthusiasm the moment someone is able\n",
            "based on the Swift language. We hope our\n",
            "to personally try Drylab Viewer! We also\n",
            "interns will consider sticking around!\n",
            "met with Pomfort and Apple about our on-\n",
            "New mentor:We are honored to have\n",
            "going collaborations; ARRI and Teradek/\n",
            "Caitlin Burns joining us as a mentor. She's anParalinx about camera integration; Amazon, The launch of Drylab 3.0 will take place at\n",
            "Google and IBM about cloud computing. the International Broadcasters Convention\n",
            "in Amsterdam in September, and we are\n",
            "WWDC and Silicon Valley:We were very\n",
            "working hard to get solid feedback from pilot\n",
            "pleasantly surprised to be invited by Apple to\n",
            "users before then.\n",
            "their World Wide Developers Conference in\n",
            "San Jose in June, despite not having applied. Annual General Meeting:Drylab's AGM\n",
            "It's a valuable chance to learn and make new will be held on June 16th at 15:00. An\n",
            "connections. We’re also setting aside time to invitation will be distributed to all owners\n",
            "meet other potential partners. well in advance. We hope to see you there!\n",
            "Cine Gear:We have decided not to attend As you can see it has been a hectic\n",
            "the Cine Gear expo in L.A. this year, since spring that has given us a lot of\n",
            "feedback from many users about the show confirmation about our product. We\n",
            "were mixed, and our planned beta version of are now working eagerly and hard\n",
            "3.0 is slightly delayed. towards the US launch with Drylab 3.0,\n",
            "while keeping momentum in Europe\n",
            "Development and launch:Development\n",
            "with our existing system.\n",
            "is around one month behind our original\n",
            "schedule. We expect the delay to decrease,\n",
            "with new developers on board.\n",
            "[Drylabhas kindly allowed this newsletter to be redone in HTML/CSS and converted to PDF\n",
            "withPrince.Navngenhelped anonymize names in the process.]\n"
          ]
        }
      ],
      "source": [
        "plumber_text = \"\"\n",
        "with pp.open(\"/content/sample.pdf\") as pdf:\n",
        "    for page in pdf.pages:\n",
        "        plumber_text += page.extract_text()\n",
        "\n",
        "print(plumber_text)\n"
      ]
    },
    {
      "cell_type": "code",
      "execution_count": null,
      "metadata": {
        "id": "tyxvIVXXcPUz"
      },
      "outputs": [],
      "source": [
        "read=PdfReader('/content/sample.pdf')"
      ]
    },
    {
      "cell_type": "code",
      "execution_count": null,
      "metadata": {
        "colab": {
          "base_uri": "https://localhost:8080/"
        },
        "id": "TB4Egn0YdBBt",
        "outputId": "411be1e1-0524-4d43-e3cc-4b556d39a5aa"
      },
      "outputs": [
        {
          "name": "stdout",
          "output_type": "stream",
          "text": [
            "DrylabNewsfor investors & friends · May 2 017\n",
            "Welcome to our first newsletter of 2017! It's\n",
            "been a while since the last one, and a lot has\n",
            "happened. We promise to keep them coming\n",
            "every two months hereafter, and permit\n",
            "ourselves to make this one rather long. The\n",
            "big news is the beginnings of our launch in\n",
            "the American market, but there are also\n",
            "interesting updates on sales, development,\n",
            "mentors and (of course) the investment\n",
            "round that closed in January.\n",
            "New capital: The investment round was\n",
            "successful. We raised 2.13 MNOK to match\n",
            "the 2.05 MNOK loan from Innovation\n",
            "Norway. Including the development\n",
            "agreement with Filmlance International, the\n",
            "total new capital is 5 MNOK, partly tied to\n",
            "the successful completion of milestones. All\n",
            "formalities associated with this process are\n",
            "now finalized.\n",
            "New owners: We would especially like to\n",
            "warmly welcome our new owners to the\n",
            "Drylab family: Unni Jacobsen, Torstein Jahr,\n",
            "Suzanne Bolstad, Eivind Bergene, Turid Brun,\n",
            "Vigdis Trondsen, Lea Blindheim, Kristine\n",
            "34meetingsmeetings\n",
            "NY · SFNY · SF\n",
            "LA · LLA · LVV\n",
            "Academy of Motion Picture Arts and Sciences  · Alesha & Jamie Metzger  · Amazon\n",
            "AWS · Apple  · Caitlin Burns, PGA  · Carlos Melcer  · Chimne y L .A. · Dado V alentic ·\n",
            "Dave Stump · DIT WIT · ERA NYC · Facebook · Fancy Film · FilmLight · Geo Labelle ·\n",
            "Google · IBM  · Inno vation Norwa y (NY C) · Inno vation Norwa y (SF)  · International\n",
            "Cinematographers Guild  · NBC  · L ocal 871  · Netflix  · P omfort · Radiant Images  ·\n",
            "Screening Room · Signiant · Moods of Norway · Tapad · Team DowneyHolmsen, Torstein Hansen, and Jostein\n",
            "Aanensen. We look forward to working with\n",
            "you!\n",
            "Sales: Return customer rate is now 80%,\n",
            "proving value and willingness to pay. Film\n",
            "Factory Montreal is our first customer in\n",
            "Canada. Lumiere Numeriques have started\n",
            "using us in France. We also have new\n",
            "customers in Norway, and high-profile users\n",
            "such as Gareth Unwin, producer of Oscar-\n",
            "winning The King's Speech. Revenue for the\n",
            "first four months is 200 kNOK, compared to\n",
            "339 kNOK for all of 2016. We are working\n",
            "on a partnership to safeguard sales in\n",
            "Norway while beginning to focus more on\n",
            "the US.\n",
            "New team members: We've extended our\n",
            "organization with two permanent developers\n",
            "based in Łódź, the film capital of Poland. Two\n",
            "highly skilled interns from the University of\n",
            "Oslo's Entrepreneurship Program, will be\n",
            "working on market research until mid-June\n",
            "(starting in March), preparing for the US\n",
            "launch. Also, two computer science students\n",
            "are working as part-time interns during\n",
            "spring, on machine learning and analysis\n",
            "research, as well as innovative architectures\n",
            "based on the Swift language. We hope our\n",
            "interns will consider sticking around!\n",
            "New mentor: We are honored to have\n",
            "Caitlin Burns joining us as a mentor. She's an\n",
            "accomplished producer based in New York,\n",
            "an active member of the Producers Guild of\n",
            "America, and the collaboration has already\n",
            "yielded good results, including valuable\n",
            "contacts for our visit in Los Angeles. Oscar-\n",
            "winning VFX supervisor Dave Stump joined\n",
            "us earlier.\n",
            "New York, St. Louis, San Francisco and\n",
            "Los Angeles: Pontus and Audun did a tour\n",
            "of the US in February and March, meeting\n",
            "users, partners and potential customers. The\n",
            "trip was very successful, with several high\n",
            "points, including meetings with Netflix, the\n",
            "Academy of Motion Picture Arts and\n",
            "Sciences, the International\n",
            "Cinematographers Guild, Local 871 (the\n",
            "script supervisors' union), one of the world's\n",
            "leading DITs, and Apple. See the separate\n",
            "attachment for a more detailed summary.\n",
            "NAB: Andreas and Audun travelled to the\n",
            "National Association of Broadcasters\n",
            "convention (NAB) in Las Vegas for three\n",
            "hectic days in April. NAB gathers 100,000\n",
            "participants from film and TV. It's a very\n",
            "efficient way of meeting people in the\n",
            "business, and getting an updated picture of\n",
            "the business landscape. The most exciting\n",
            "meeting was with PIX System, one of our\n",
            "most important competitors. It was\n",
            "interesting to note that they regarded the\n",
            "indie market as bigger than their own.\n",
            "Andreas was able to secure us an\n",
            "invitation to the DIT-WIT party, with some of\n",
            "the world's leading DITs in attendance. It was\n",
            "a great place for informal feedback on Drylab\n",
            "Viewer. The pattern was the same as for\n",
            "other users: Initial polite interest turns to\n",
            "real enthusiasm the moment someone is able\n",
            "to personally try Drylab Viewer! We also\n",
            "met with Pomfort and Apple about our on-\n",
            "going collaborations; ARRI and Teradek/Paralinx about camera integration; Amazon,\n",
            "Google and IBM about cloud computing.\n",
            "WWDC and Silicon Valley: We were very\n",
            "pleasantly surprised to be invited by Apple to\n",
            "their World Wide Developers Conference in\n",
            "San Jose in June, despite not having applied.\n",
            "It's a valuable chance to learn and make new\n",
            "connections. We’re also setting aside time to\n",
            "meet other potential partners.\n",
            "Cine Gear: We have decided not to attend\n",
            "the Cine Gear expo in L.A. this year, since\n",
            "feedback from many users about the show\n",
            "were mixed, and our planned beta version of\n",
            "3.0 is slightly delayed.\n",
            "Development and launch: Development\n",
            "is around one month behind our original\n",
            "schedule. We expect the delay to decrease,\n",
            "with new developers on board.\n",
            "The launch of Drylab 3.0 will take place at\n",
            "the International Broadcasters Convention\n",
            "in Amsterdam in September, and we are\n",
            "working hard to get solid feedback from pilot\n",
            "users before then.\n",
            "Annual General Meeting: Drylab's AGM\n",
            "will be held on June 16th at 15:00. An\n",
            "invitation will be distributed to all owners\n",
            "well in advance. We hope to see you there!\n",
            "As you can see it has been a hectic\n",
            "spring that has given us a lot of\n",
            "confirmation about our product. We\n",
            "are now working eagerly and hard\n",
            "towards the US launch with Drylab 3.0,\n",
            "while keeping momentum in Europe\n",
            "with our existing system.\n",
            "[Drylab has kindly allowed this newsletter to be redone in HTML/CSS and converted to PDF\n",
            "with Prince. Navngen helped anonymize names in the process.]\n"
          ]
        }
      ],
      "source": [
        "pypdf_text = \"\"\n",
        "for page in read.pages:\n",
        "    text = page.extract_text()\n",
        "    if text:\n",
        "        pypdf_text += text\n",
        "print(pypdf_text)\n"
      ]
    },
    {
      "cell_type": "code",
      "execution_count": null,
      "metadata": {
        "id": "cKO3fQc_dCgP"
      },
      "outputs": [],
      "source": [
        "orgtext = \"\"\"\n",
        "DrylabNews\n",
        " for investors & friends · May 2017\n",
        " Welcome to our first newsletter of 2017! It's\n",
        " been a while since the last one, and a lot has\n",
        " happened. We promise to keep them coming\n",
        " every two months hereafter, and permit\n",
        " ourselves to make this one rather long. The\n",
        " big news is the beginnings of our launch in\n",
        " the American market, but there are also\n",
        " interesting updates on sales, development,\n",
        " mentors and (of course) the investment\n",
        " round that closed in January.\n",
        " New capital:The investment round was\n",
        " successful. We raised 2.13 MNOK to match\n",
        " 34\n",
        " meetings\n",
        " NY · SF\n",
        " LA · LV\n",
        " the 2.05 MNOK loan from Innovation\n",
        " Norway. Including the development\n",
        " agreement with Filmlance International, the\n",
        " total new capital is 5 MNOK, partly tied to\n",
        " the successful completion of milestones. All\n",
        " formalities associated with this process are\n",
        " now finalized.\n",
        " New owners:We would especially like to\n",
        " warmly welcome our new owners to the\n",
        " Drylab family: Unni Jacobsen, Torstein Jahr,\n",
        " Suzanne Bolstad, Eivind Bergene, Turid Brun,\n",
        " Vigdis Trondsen, Lea Blindheim, Kristine\n",
        " Academy of Motion Picture Arts and Sciences · Alesha & Jamie Metzger · Amazon\n",
        " AWS · Apple · Caitlin Burns, PGA · Carlos Melcer · Chimney L.A. · Dado Valentic ·\n",
        " Dave Stump · DIT WIT · ERA NYC · Facebook · Fancy Film · FilmLight · Geo Labelle ·\n",
        " Google · IBM · Innovation Norway (NYC) · Innovation Norway (SF) · International\n",
        " Cinematographers Guild · NBC · Local 871 · Netflix · Pomfort · Radiant Images ·\n",
        " Screening Room · Signiant · Moods of Norway · Tapad · Team Downey\n",
        "Holmsen, Torstein Hansen, and Jostein\n",
        " Aanensen. We look forward to working with\n",
        " you!\n",
        " Sales: Return customer rate is now 80%,\n",
        " proving value and willingness to pay. Film\n",
        " Factory Montreal is our first customer in\n",
        " Canada. Lumiere Numeriques have started\n",
        " using us in France. We also have new\n",
        " customers in Norway, and high-profile users\n",
        " such as Gareth Unwin, producer of Oscar\n",
        "winningThe King's Speech. Revenue for the\n",
        " f\n",
        " irst four months is 200 kNOK, compared to\n",
        " 339 kNOK for all of 2016. We are working\n",
        " on a partnership to safeguard sales in\n",
        " Norway while beginning to focus more on\n",
        " the US.\n",
        " New team members:We've extended our\n",
        " organization with two permanent developers\n",
        " based in Łódź, the film capital of Poland. Two\n",
        " highly skilled interns from the University of\n",
        " Oslo's Entrepreneurship Program, will be\n",
        " working on market research until mid-June\n",
        " (starting in March), preparing for the US\n",
        " launch. Also, two computer science students\n",
        " are working as part-time interns during\n",
        " spring, on machine learning and analysis\n",
        " research, as well as innovative architectures\n",
        " based on the Swift language. We hope our\n",
        " interns will consider sticking around!\n",
        " New mentor:We are honored to have\n",
        " Caitlin Burns joining us as a mentor. She's an\n",
        " accomplished producer based in New York,\n",
        " an active member of the Producers Guild of\n",
        " America, and the collaboration has already\n",
        " yielded good results, including valuable\n",
        " contacts for our visit in Los Angeles. Oscar\n",
        "winning VFX supervisor Dave Stumpjoined\n",
        " us earlier.\n",
        " New York, St. Louis, San Francisco and\n",
        " Los Angeles:Pontus and Audun did a tour\n",
        " of the US in February and March, meeting\n",
        " users, partners and potential customers. The\n",
        " trip was very successful, with several high\n",
        " points, including meetings with Netflix, the\n",
        " Academy of Motion Picture Arts and\n",
        " Sciences, the International\n",
        " Cinematographers Guild, Local 871 (the\n",
        " script supervisors' union), one of the world's\n",
        " leading DITs, and Apple. See the separate\n",
        " attachment for a more detailed summary.\n",
        " NAB:Andreas and Audun travelled to the\n",
        " National Association of Broadcasters\n",
        " convention (NAB) in Las Vegas for three\n",
        " hectic days in April. NAB gathers 100,000\n",
        " participants from film and TV. It's a very\n",
        " efficient way of meeting people in the\n",
        " business, and getting an updated picture of\n",
        " the business landscape. The most exciting\n",
        " meeting was with PIX System, one of our\n",
        " most important competitors. It was\n",
        " interesting to note that they regarded the\n",
        " indie market as bigger than their own.\n",
        " Andreas was able to secure us an\n",
        " invitation to the DIT-WIT party, with some of\n",
        " the world's leading DITs in attendance. It was\n",
        " a great place for informal feedback on Drylab\n",
        " Viewer. The pattern was the same as for\n",
        " other users: Initial polite interest turns to\n",
        " real enthusiasm the moment someone is able\n",
        " to personally try Drylab Viewer! We also\n",
        " met with Pomfort and Apple about our on\n",
        "going collaborations; ARRI and Teradek/\n",
        "Paralinx about camera integration; Amazon,\n",
        " Google and IBM about cloud computing.\n",
        " WWDC and Silicon Valley:We were very\n",
        " pleasantly surprised to be invited by Apple to\n",
        " their World Wide Developers Conference in\n",
        " San Jose in June, despite not having applied.\n",
        " It's a valuable chance to learn and make new\n",
        " connections. We’re also setting aside time to\n",
        " meet other potential partners.\n",
        " Cine Gear:We have decided not to attend\n",
        " the Cine Gear expo in L.A. this year, since\n",
        " feedback from many users about the show\n",
        " were mixed, and our planned beta version of\n",
        " 3.0 is slightly delayed.\n",
        " Development and launch:Development\n",
        " is around one month behind our original\n",
        " schedule. We expect the delay to decrease,\n",
        " with new developers on board.\n",
        " The launch of Drylab 3.0 will take place at\n",
        " the International Broadcasters Convention\n",
        " in Amsterdam in September, and we are\n",
        " working hard to get solid feedback from pilot\n",
        " users before then.\n",
        " Annual General Meeting:Drylab's AGM\n",
        " will be held on June 16th at 15:00. An\n",
        " invitation will be distributed to all owners\n",
        " well in advance. We hope to see you there!\n",
        " As you can see it has been a hectic\n",
        " spring that has given us a lot of\n",
        " confirmation about our product. We\n",
        " are now working eagerly and hard\n",
        " towards the US launch with Drylab 3.0,\n",
        " while keeping momentum in Europe\n",
        " with our existing system.\n",
        " [Drylab has kindly allowed this newsletter to be redone in HTML/CSS and converted to PDF\n",
        " withPrince. Navngenhelped anonymize names in the process.]\n",
        "\"\"\"\n"
      ]
    },
    {
      "cell_type": "code",
      "execution_count": null,
      "metadata": {
        "id": "Ro2AIgnEX2-T"
      },
      "outputs": [],
      "source": [
        "orig=orgtext.split()"
      ]
    },
    {
      "cell_type": "code",
      "execution_count": null,
      "metadata": {
        "id": "Gd-Wpb9TaJDN"
      },
      "outputs": [],
      "source": [
        "plumber=plumber_text.split()"
      ]
    },
    {
      "cell_type": "code",
      "execution_count": null,
      "metadata": {
        "id": "lDy2yriAaMPP"
      },
      "outputs": [],
      "source": [
        "pypdff=pypdf_text.split()"
      ]
    },
    {
      "cell_type": "code",
      "execution_count": null,
      "metadata": {
        "colab": {
          "background_save": true,
          "base_uri": "https://localhost:8080/"
        },
        "id": "UDTQh4lfa443",
        "outputId": "aa002407-436f-4971-9bd9-e836efc3a34b"
      },
      "outputs": [
        {
          "name": "stdout",
          "output_type": "stream",
          "text": [
            "Paralinx about camera integration; Amazon,\n",
            "Google and IBM about cloud computing.\n",
            "WWDC and Silicon Valley: We were very\n",
            "pleasantly surprised to be invited by Apple to\n",
            "their World Wide Developers Conference in\n",
            "San Jose in June, despite not having applied.\n",
            "It's a valuable chance to learn and make new\n",
            "connections. We’re also setting aside time to\n",
            "meet other potential partners.\n",
            "Cine Gear: We have decided not to attend\n",
            "the Cine Gear expo in L.A. this year, since\n",
            "feedback from many users about the show\n",
            "were mixed, and our planned beta version of\n",
            "3.0 is slightly delayed.\n",
            "Development and launch: Development\n",
            "is around one month behind our original\n",
            "schedule. We expect the delay to decrease,\n",
            "with new developers on board.\n",
            "The launch of Drylab 3.0 will take place at\n",
            "the International Broadcasters Convention\n",
            "in Amsterdam in September, and we are\n",
            "working hard to get solid feedback from pilot\n",
            "users before then.\n",
            "Annual General Meeting: Drylab's AGM\n",
            "will be held on June 16th at 15:00. An\n",
            "invitation will be distributed to all owners\n",
            "well in advance. We hope to see you there!\n",
            "As you can see it has been a hectic\n",
            "spring that has given us a lot of\n",
            "confirmation about our product. We\n",
            "are now working eagerly and hard\n",
            "towards the US launch with Drylab 3.0,\n",
            "while keeping momentum in Europe\n",
            "with our existing system.\n",
            "[Drylab has kindly allowed this newsletter to be redone in HTML/CSS and converted to PDF\n",
            "with Prince. Navngen helped anonymize names in the process.]\n"
          ]
        }
      ],
      "source": [
        "from pdfminer.high_level import extract_text\n",
        "miner_text = extract_text(\"sample.pdf\")\n",
        "print(text)\n"
      ]
    },
    {
      "cell_type": "code",
      "execution_count": null,
      "metadata": {
        "id": "tPxi2kXKdUYU"
      },
      "outputs": [],
      "source": [
        "minerr=miner_text.split()"
      ]
    },
    {
      "cell_type": "code",
      "execution_count": null,
      "metadata": {
        "colab": {
          "base_uri": "https://localhost:8080/"
        },
        "id": "OrkchvqEdjzD",
        "outputId": "b99df227-7748-4ea1-e8aa-ed67815ca7d7"
      },
      "outputs": [
        {
          "name": "stdout",
          "output_type": "stream",
          "text": [
            "Collecting jiwer\n",
            "  Downloading jiwer-4.0.0-py3-none-any.whl.metadata (3.3 kB)\n",
            "Requirement already satisfied: click>=8.1.8 in /usr/local/lib/python3.12/dist-packages (from jiwer) (8.2.1)\n",
            "Collecting rapidfuzz>=3.9.7 (from jiwer)\n",
            "  Downloading rapidfuzz-3.13.0-cp312-cp312-manylinux_2_17_x86_64.manylinux2014_x86_64.whl.metadata (12 kB)\n",
            "Downloading jiwer-4.0.0-py3-none-any.whl (23 kB)\n",
            "Downloading rapidfuzz-3.13.0-cp312-cp312-manylinux_2_17_x86_64.manylinux2014_x86_64.whl (3.1 MB)\n",
            "\u001b[2K   \u001b[90m━━━━━━━━━━━━━━━━━━━━━━━━━━━━━━━━━━━━━━━━\u001b[0m \u001b[32m3.1/3.1 MB\u001b[0m \u001b[31m43.0 MB/s\u001b[0m eta \u001b[36m0:00:00\u001b[0m\n",
            "\u001b[?25hInstalling collected packages: rapidfuzz, jiwer\n",
            "Successfully installed jiwer-4.0.0 rapidfuzz-3.13.0\n"
          ]
        }
      ],
      "source": [
        "pip install jiwer"
      ]
    },
    {
      "cell_type": "code",
      "execution_count": null,
      "metadata": {
        "id": "AxcCttq4lVms"
      },
      "outputs": [],
      "source": [
        "from jiwer import wer,cer"
      ]
    },
    {
      "cell_type": "code",
      "execution_count": null,
      "metadata": {
        "colab": {
          "base_uri": "https://localhost:8080/"
        },
        "id": "AhX2ztq5lq7G",
        "outputId": "95238142-20fc-4c97-aa4d-6f26751098cc"
      },
      "outputs": [
        {
          "data": {
            "text/plain": [
              "75.70385818561"
            ]
          },
          "execution_count": 31,
          "metadata": {},
          "output_type": "execute_result"
        }
      ],
      "source": [
        "wer(orgtext,plumber_text)*100\n"
      ]
    },
    {
      "cell_type": "code",
      "execution_count": null,
      "metadata": {
        "colab": {
          "base_uri": "https://localhost:8080/"
        },
        "id": "OuTvUMDFl3UT",
        "outputId": "cfdfce53-ef49-4b4f-dab2-f94193dde8d7"
      },
      "outputs": [
        {
          "data": {
            "text/plain": [
              "61.82489097618249"
            ]
          },
          "execution_count": 30,
          "metadata": {},
          "output_type": "execute_result"
        }
      ],
      "source": [
        "cer(orgtext,plumber_text)*100"
      ]
    },
    {
      "cell_type": "code",
      "execution_count": null,
      "metadata": {
        "colab": {
          "base_uri": "https://localhost:8080/"
        },
        "id": "VlA4s9RenLh7",
        "outputId": "9937d8e0-f630-459e-e5a8-a4914552d2e8"
      },
      "outputs": [
        {
          "data": {
            "text/plain": [
              "33.36809176225234"
            ]
          },
          "execution_count": 32,
          "metadata": {},
          "output_type": "execute_result"
        }
      ],
      "source": [
        "wer(orgtext,pypdf_text)*100"
      ]
    },
    {
      "cell_type": "code",
      "execution_count": null,
      "metadata": {
        "colab": {
          "base_uri": "https://localhost:8080/",
          "height": 141
        },
        "id": "F93N1BNpnWyj",
        "outputId": "ae5f6e37-bed2-4486-b320-95e00623d0b4"
      },
      "outputs": [
        {
          "ename": "NameError",
          "evalue": "name 'cer9' is not defined",
          "output_type": "error",
          "traceback": [
            "\u001b[0;31m---------------------------------------------------------------------------\u001b[0m",
            "\u001b[0;31mNameError\u001b[0m                                 Traceback (most recent call last)",
            "\u001b[0;32m/tmp/ipython-input-837187735.py\u001b[0m in \u001b[0;36m<cell line: 0>\u001b[0;34m()\u001b[0m\n\u001b[0;32m----> 1\u001b[0;31m \u001b[0mcer9\u001b[0m\u001b[0;34m(\u001b[0m\u001b[0morgtext\u001b[0m\u001b[0;34m,\u001b[0m\u001b[0mpypdf_text\u001b[0m\u001b[0;34m)\u001b[0m\u001b[0;34m*\u001b[0m\u001b[0;36m100\u001b[0m\u001b[0;34m\u001b[0m\u001b[0;34m\u001b[0m\u001b[0m\n\u001b[0m",
            "\u001b[0;31mNameError\u001b[0m: name 'cer9' is not defined"
          ]
        }
      ],
      "source": [
        "cer9(orgtext,pypdf_text)*100"
      ]
    }
  ],
  "metadata": {
    "colab": {
      "provenance": []
    },
    "kernelspec": {
      "display_name": "Python 3",
      "name": "python3"
    },
    "language_info": {
      "name": "python"
    }
  },
  "nbformat": 4,
  "nbformat_minor": 0
}